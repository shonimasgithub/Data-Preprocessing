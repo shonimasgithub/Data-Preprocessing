{
 "cells": [
  {
   "cell_type": "markdown",
   "id": "e0931f1d",
   "metadata": {},
   "source": [
    "# Data Preprocessing"
   ]
  },
  {
   "cell_type": "markdown",
   "id": "833d6ec5",
   "metadata": {},
   "source": [
    "✅ Steps Covered:\n",
    "1. Load and explore the dataset\n",
    "\n",
    "2. Clean the data – handle missing values, outliers, duplicates\n",
    "\n",
    "3. Analyze – filtering, visualizations\n",
    "\n",
    "4. Encode – convert categorical data\n",
    "\n",
    "5. Scale – StandardScaler & MinMaxScaler"
   ]
  },
  {
   "cell_type": "code",
   "execution_count": 5,
   "id": "0469dbb5",
   "metadata": {},
   "outputs": [],
   "source": [
    "# Step 0: Import libraries\n",
    "import pandas as pd\n",
    "import numpy as np\n",
    "import matplotlib.pyplot as plt\n",
    "import seaborn as sns\n",
    "from sklearn.preprocessing import LabelEncoder, OneHotEncoder, StandardScaler, MinMaxScaler"
   ]
  },
  {
   "cell_type": "code",
   "execution_count": 10,
   "id": "e738cd6f",
   "metadata": {},
   "outputs": [],
   "source": [
    "# Step 1: Load the dataset\n",
    "df = pd.read_csv(\"C://Users//SHONIMA S//OneDrive//Documents//datascience//Employee.csv\")\n"
   ]
  },
  {
   "cell_type": "code",
   "execution_count": 11,
   "id": "6339188b",
   "metadata": {},
   "outputs": [
    {
     "name": "stdout",
     "output_type": "stream",
     "text": [
      "First 5 Rows:\n",
      "    Company   Age  Salary     Place Country  Gender\n",
      "0      TCS  20.0     NaN   Chennai   India       0\n",
      "1  Infosys  30.0     NaN    Mumbai   India       0\n",
      "2      TCS  35.0  2300.0  Calcutta   India       0\n",
      "3  Infosys  40.0  3000.0     Delhi   India       0\n",
      "4      TCS  23.0  4000.0    Mumbai   India       0\n",
      "\n",
      "Column Names: Index(['Company', 'Age', 'Salary', 'Place', 'Country', 'Gender'], dtype='object')\n",
      "\n",
      "Shape of dataset: (148, 6)\n"
     ]
    }
   ],
   "source": [
    "# Step 2: Data Exploration\n",
    "#Explore the data, list down the unique values in each feature and find its length.\n",
    "#Perform the statistical analysis and renaming of the columns.\n",
    "print(\"First 5 Rows:\\n\", df.head())\n",
    "print(\"\\nColumn Names:\", df.columns)\n",
    "print(\"\\nShape of dataset:\", df.shape)"
   ]
  },
  {
   "cell_type": "code",
   "execution_count": 12,
   "id": "b749cd7b",
   "metadata": {},
   "outputs": [
    {
     "name": "stdout",
     "output_type": "stream",
     "text": [
      "\n",
      "Unique Values in Each Column:\n",
      "Company: 6 unique values\n",
      "Age: 29 unique values\n",
      "Salary: 40 unique values\n",
      "Place: 11 unique values\n",
      "Country: 1 unique values\n",
      "Gender: 2 unique values\n"
     ]
    }
   ],
   "source": [
    "# Unique values in each column\n",
    "print(\"\\nUnique Values in Each Column:\")\n",
    "for col in df.columns:\n",
    "    print(f\"{col}: {df[col].nunique()} unique values\")\n"
   ]
  },
  {
   "cell_type": "code",
   "execution_count": 14,
   "id": "88a30adb",
   "metadata": {},
   "outputs": [],
   "source": [
    "# Renaming columns to lowercase and replacing spaces with underscores\n",
    "df.columns = [col.strip().lower().replace(\" \", \"_\") for col in df.columns]"
   ]
  },
  {
   "cell_type": "code",
   "execution_count": 15,
   "id": "741a3244",
   "metadata": {},
   "outputs": [
    {
     "name": "stdout",
     "output_type": "stream",
     "text": [
      "\n",
      "Statistical Summary:\n",
      "        company         age       salary   place country      gender\n",
      "count      140  130.000000   124.000000     134     148  148.000000\n",
      "unique       6         NaN          NaN      11       1         NaN\n",
      "top        TCS         NaN          NaN  Mumbai   India         NaN\n",
      "freq        53         NaN          NaN      37     148         NaN\n",
      "mean       NaN   30.484615  5312.467742     NaN     NaN    0.222973\n",
      "std        NaN   11.096640  2573.764683     NaN     NaN    0.417654\n",
      "min        NaN    0.000000  1089.000000     NaN     NaN    0.000000\n",
      "25%        NaN   22.000000  3030.000000     NaN     NaN    0.000000\n",
      "50%        NaN   32.500000  5000.000000     NaN     NaN    0.000000\n",
      "75%        NaN   37.750000  8000.000000     NaN     NaN    0.000000\n",
      "max        NaN   54.000000  9876.000000     NaN     NaN    1.000000\n"
     ]
    }
   ],
   "source": [
    "# Statistical summary\n",
    "print(\"\\nStatistical Summary:\\n\", df.describe(include='all'))"
   ]
  },
  {
   "cell_type": "code",
   "execution_count": null,
   "id": "d3287594",
   "metadata": {},
   "outputs": [],
   "source": [
    "# Step 3: Data Cleaning\n",
    "#Find the missing and inappropriate values, treat them appropriately.\n",
    "#Remove all duplicate rows.\n",
    "#Find the outliers.\n",
    "#Replace the value 0 in age as NaN\n",
    "#Treat the null values in all columns using any measures(removing/ replace the values with mean/median/mode)"
   ]
  },
  {
   "cell_type": "code",
   "execution_count": null,
   "id": "f187263c",
   "metadata": {},
   "outputs": [],
   "source": [
    "# Replace '0' in 'age' with NaN\n",
    "df['age'] = df['age'].replace(0, np.nan)"
   ]
  },
  {
   "cell_type": "code",
   "execution_count": 16,
   "id": "72794dd9",
   "metadata": {},
   "outputs": [
    {
     "name": "stdout",
     "output_type": "stream",
     "text": [
      "\n",
      "Missing Values Before Treatment:\n",
      " company     8\n",
      "age        18\n",
      "salary     24\n",
      "place      14\n",
      "country     0\n",
      "gender      0\n",
      "dtype: int64\n"
     ]
    }
   ],
   "source": [
    "# Check missing values\n",
    "print(\"\\nMissing Values Before Treatment:\\n\", df.isnull().sum())"
   ]
  },
  {
   "cell_type": "code",
   "execution_count": 17,
   "id": "bda3094c",
   "metadata": {},
   "outputs": [],
   "source": [
    "# Fill missing numerical values with median\n",
    "for col in df.select_dtypes(include=['float64', 'int64']).columns:\n",
    "    df[col] = df[col].fillna(df[col].median())\n"
   ]
  },
  {
   "cell_type": "code",
   "execution_count": 21,
   "id": "f367aed3",
   "metadata": {},
   "outputs": [],
   "source": [
    "# Fill missing categorical values with mode\n",
    "for col in df.select_dtypes(include='object').columns:\n",
    "    df[col] = df[col].fillna(df[col].mode()[0])"
   ]
  },
  {
   "cell_type": "code",
   "execution_count": 22,
   "id": "aa2b14a6",
   "metadata": {},
   "outputs": [],
   "source": [
    "# Remove duplicates\n",
    "df = df.drop_duplicates()\n"
   ]
  },
  {
   "cell_type": "code",
   "execution_count": 23,
   "id": "380788c3",
   "metadata": {},
   "outputs": [],
   "source": [
    "# Detect outliers using IQR method\n",
    "def find_outliers(col):\n",
    "    Q1 = df[col].quantile(0.25)\n",
    "    Q3 = df[col].quantile(0.75)\n",
    "    IQR = Q3 - Q1\n",
    "    return df[(df[col] < (Q1 - 1.5 * IQR)) | (df[col] > (Q3 + 1.5 * IQR))]\n"
   ]
  },
  {
   "cell_type": "code",
   "execution_count": 24,
   "id": "a2d2fc85",
   "metadata": {},
   "outputs": [
    {
     "name": "stdout",
     "output_type": "stream",
     "text": [
      "\n",
      "Outliers in 'age':\n",
      "      company  age  salary       place country  gender\n",
      "88   Infosys  0.0  3030.0    Calcutta   India       0\n",
      "92       TCS  0.0  3045.0       Delhi   India       0\n",
      "101      CTS  0.0  2034.0  Podicherry   India       0\n",
      "107      TCS  0.0  9024.0     Chennai   India       1\n",
      "111  Infosys  0.0  3234.0      Mumbai   India       0\n",
      "121      CTS  0.0  1234.0    Calcutta   India       0\n",
      "\n",
      "Outliers in 'salary':\n",
      " Empty DataFrame\n",
      "Columns: [company, age, salary, place, country, gender]\n",
      "Index: []\n"
     ]
    }
   ],
   "source": [
    "print(\"\\nOutliers in 'age':\\n\", find_outliers('age'))\n",
    "print(\"\\nOutliers in 'salary':\\n\", find_outliers('salary'))\n"
   ]
  },
  {
   "cell_type": "code",
   "execution_count": 25,
   "id": "805762f1",
   "metadata": {},
   "outputs": [
    {
     "name": "stdout",
     "output_type": "stream",
     "text": [
      "\n",
      "Filtered Data:\n",
      "      company   age  salary      place country  gender\n",
      "21   Infosys  50.0  3184.0      Delhi   India       0\n",
      "32   Infosys  45.0  4034.0   Calcutta   India       0\n",
      "39   Infosys  41.0  3000.0     Mumbai   India       0\n",
      "50   Infosys  41.0  3000.0    Chennai   India       0\n",
      "57   Infosys  51.0  3184.0  Hyderabad   India       0\n",
      "68   Infosys  43.0  4034.0     Mumbai   India       0\n",
      "75   Infosys  44.0  3000.0     Cochin   India       0\n",
      "86   Infosys  41.0  3000.0      Delhi   India       0\n",
      "93   Infosys  54.0  3184.0     Mumbai   India       0\n",
      "104  Infosys  44.0  4034.0      Delhi   India       0\n",
      "122  Infosys  44.0  3234.0     Mumbai   India       0\n",
      "129  Infosys  50.0  3184.0   Calcutta   India       0\n",
      "138      CTS  44.0  3033.0     Cochin   India       0\n",
      "140  Infosys  44.0  4034.0  Hyderabad   India       0\n",
      "145  Infosys  44.0  4034.0      Delhi   India       1\n"
     ]
    }
   ],
   "source": [
    "# Step 4: Data Analysis\n",
    "#Filter the data with age >40 and salary<5000\n",
    "#Plot the chart with age and salary\n",
    "#Count the number of people from each place and represent it visually\n",
    "\n",
    "# Filter age > 40 and salary < 5000\n",
    "filtered_df = df[(df['age'] > 40) & (df['salary'] < 5000)]\n",
    "print(\"\\nFiltered Data:\\n\", filtered_df)\n"
   ]
  },
  {
   "cell_type": "code",
   "execution_count": 26,
   "id": "38792466",
   "metadata": {},
   "outputs": [
    {
     "data": {
      "image/png": "[encoded data removed]",
      "text/plain": [
       "<Figure size 800x500 with 1 Axes>"
      ]
     },
     "metadata": {},
     "output_type": "display_data"
    }
   ],
   "source": [
    "# Plotting Age vs Salary\n",
    "plt.figure(figsize=(8, 5))\n",
    "sns.scatterplot(data=df, x='age', y='salary')\n",
    "plt.title(\"Age vs Salary\")\n",
    "plt.xlabel(\"Age\")\n",
    "plt.ylabel(\"Salary\")\n",
    "plt.grid(True)\n",
    "plt.show()"
   ]
  },
  {
   "cell_type": "code",
   "execution_count": 27,
   "id": "eef9c935",
   "metadata": {},
   "outputs": [
    {
     "data": {
      "image/png": "[encoded data removed]",
      "text/plain": [
       "<Figure size 800x500 with 1 Axes>"
      ]
     },
     "metadata": {},
     "output_type": "display_data"
    }
   ],
   "source": [
    "# Count people from each place and visualize\n",
    "if 'place' in df.columns:\n",
    "    place_counts = df['place'].value_counts()\n",
    "    place_counts.plot(kind='bar', figsize=(8, 5), title=\"Number of People from Each Place\")\n",
    "    plt.xlabel(\"Place\")\n",
    "    plt.ylabel(\"Count\")\n",
    "    plt.grid(True)\n",
    "    plt.show()\n"
   ]
  },
  {
   "cell_type": "code",
   "execution_count": 28,
   "id": "ce4a8758",
   "metadata": {},
   "outputs": [
    {
     "name": "stdout",
     "output_type": "stream",
     "text": [
      "\n",
      "Data after Encoding:\n",
      "     age  salary  gender  company_Congnizant  company_Infosys  \\\n",
      "0  20.0  5000.0       0                   0                0   \n",
      "1  30.0  5000.0       0                   0                1   \n",
      "2  35.0  2300.0       0                   0                0   \n",
      "3  40.0  3000.0       0                   0                1   \n",
      "4  23.0  4000.0       0                   0                0   \n",
      "\n",
      "   company_Infosys Pvt Lmt  company_TCS  company_Tata Consultancy Services  \\\n",
      "0                        0            1                                  0   \n",
      "1                        0            0                                  0   \n",
      "2                        0            1                                  0   \n",
      "3                        0            0                                  0   \n",
      "4                        0            1                                  0   \n",
      "\n",
      "   place_Calcutta  place_Chennai  place_Cochin  place_Delhi  place_Hyderabad  \\\n",
      "0               0              1             0            0                0   \n",
      "1               0              0             0            0                0   \n",
      "2               1              0             0            0                0   \n",
      "3               0              0             0            1                0   \n",
      "4               0              0             0            0                0   \n",
      "\n",
      "   place_Mumbai  place_Nagpur  place_Noida  place_Podicherry  place_Pune  \n",
      "0             0             0            0                 0           0  \n",
      "1             1             0            0                 0           0  \n",
      "2             0             0            0                 0           0  \n",
      "3             0             0            0                 0           0  \n",
      "4             1             0            0                 0           0  \n"
     ]
    }
   ],
   "source": [
    "# Step 5: Data Encoding\n",
    "#Convert categorical variables into numerical representations using techniques such as one-hot encoding, label encoding, making them suitable for analysis by machine learning algorithms.\n",
    "\n",
    "# Label Encoding for binary columns\n",
    "le = LabelEncoder()\n",
    "for col in df.select_dtypes(include='object').columns:\n",
    "    if df[col].nunique() == 2:\n",
    "        df[col] = le.fit_transform(df[col])\n",
    "\n",
    "# One-Hot Encoding for other categorical variables\n",
    "df = pd.get_dummies(df, drop_first=True)\n",
    "\n",
    "print(\"\\nData after Encoding:\\n\", df.head())\n"
   ]
  },
  {
   "cell_type": "code",
   "execution_count": 29,
   "id": "0fe3c850",
   "metadata": {},
   "outputs": [],
   "source": [
    "# Step 6: Feature Scaling\n",
    "#After the process of encoding, perform the scaling of the features using standardscaler and minmaxscaler.\n",
    "\n",
    "# Standard Scaling\n",
    "scaler_std = StandardScaler()\n",
    "scaled_std = scaler_std.fit_transform(df)\n",
    "df_std = pd.DataFrame(scaled_std, columns=df.columns)\n"
   ]
  },
  {
   "cell_type": "code",
   "execution_count": 30,
   "id": "2ed4b441",
   "metadata": {},
   "outputs": [],
   "source": [
    "# Min-Max Scaling\n",
    "scaler_mm = MinMaxScaler()\n",
    "scaled_mm = scaler_mm.fit_transform(df)\n",
    "df_mm = pd.DataFrame(scaled_mm, columns=df.columns)\n"
   ]
  },
  {
   "cell_type": "code",
   "execution_count": 31,
   "id": "bd8251cc",
   "metadata": {},
   "outputs": [
    {
     "name": "stdout",
     "output_type": "stream",
     "text": [
      "\n",
      "Standard Scaled Data (first 5 rows):\n",
      "         age    salary    gender  company_Congnizant  company_Infosys  \\\n",
      "0 -1.033034 -0.100827 -0.534522           -0.118678        -0.652490   \n",
      "1 -0.073002 -0.100827 -0.534522           -0.118678         1.532592   \n",
      "2  0.407013 -1.243735 -0.534522           -0.118678        -0.652490   \n",
      "3  0.887029 -0.947426 -0.534522           -0.118678         1.532592   \n",
      "4 -0.745024 -0.524127 -0.534522           -0.118678        -0.652490   \n",
      "\n",
      "   company_Infosys Pvt Lmt  company_TCS  company_Tata Consultancy Services  \\\n",
      "0                -0.118678     1.183216                          -0.118678   \n",
      "1                -0.118678    -0.845154                          -0.118678   \n",
      "2                -0.118678     1.183216                          -0.118678   \n",
      "3                -0.118678    -0.845154                          -0.118678   \n",
      "4                -0.118678     1.183216                          -0.118678   \n",
      "\n",
      "   place_Calcutta  place_Chennai  place_Cochin  place_Delhi  place_Hyderabad  \\\n",
      "0       -0.534522       3.047247     -0.315018    -0.328165        -0.242536   \n",
      "1       -0.534522      -0.328165     -0.315018    -0.328165        -0.242536   \n",
      "2        1.870829      -0.328165     -0.315018    -0.328165        -0.242536   \n",
      "3       -0.534522      -0.328165     -0.315018     3.047247        -0.242536   \n",
      "4       -0.534522      -0.328165     -0.315018    -0.328165        -0.242536   \n",
      "\n",
      "   place_Mumbai  place_Nagpur  place_Noida  place_Podicherry  place_Pune  \n",
      "0     -0.707107     -0.083624    -0.242536         -0.145865   -0.118678  \n",
      "1      1.414214     -0.083624    -0.242536         -0.145865   -0.118678  \n",
      "2     -0.707107     -0.083624    -0.242536         -0.145865   -0.118678  \n",
      "3     -0.707107     -0.083624    -0.242536         -0.145865   -0.118678  \n",
      "4      1.414214     -0.083624    -0.242536         -0.145865   -0.118678  \n",
      "\n",
      "Min-Max Scaled Data (first 5 rows):\n",
      "         age    salary  gender  company_Congnizant  company_Infosys  \\\n",
      "0  0.370370  0.445089     0.0                 0.0              0.0   \n",
      "1  0.555556  0.445089     0.0                 0.0              1.0   \n",
      "2  0.648148  0.137817     0.0                 0.0              0.0   \n",
      "3  0.740741  0.217480     0.0                 0.0              1.0   \n",
      "4  0.425926  0.331285     0.0                 0.0              0.0   \n",
      "\n",
      "   company_Infosys Pvt Lmt  company_TCS  company_Tata Consultancy Services  \\\n",
      "0                      0.0          1.0                                0.0   \n",
      "1                      0.0          0.0                                0.0   \n",
      "2                      0.0          1.0                                0.0   \n",
      "3                      0.0          0.0                                0.0   \n",
      "4                      0.0          1.0                                0.0   \n",
      "\n",
      "   place_Calcutta  place_Chennai  place_Cochin  place_Delhi  place_Hyderabad  \\\n",
      "0             0.0            1.0           0.0          0.0              0.0   \n",
      "1             0.0            0.0           0.0          0.0              0.0   \n",
      "2             1.0            0.0           0.0          0.0              0.0   \n",
      "3             0.0            0.0           0.0          1.0              0.0   \n",
      "4             0.0            0.0           0.0          0.0              0.0   \n",
      "\n",
      "   place_Mumbai  place_Nagpur  place_Noida  place_Podicherry  place_Pune  \n",
      "0           0.0           0.0          0.0               0.0         0.0  \n",
      "1           1.0           0.0          0.0               0.0         0.0  \n",
      "2           0.0           0.0          0.0               0.0         0.0  \n",
      "3           0.0           0.0          0.0               0.0         0.0  \n",
      "4           1.0           0.0          0.0               0.0         0.0  \n"
     ]
    }
   ],
   "source": [
    "# Show scaled data\n",
    "print(\"\\nStandard Scaled Data (first 5 rows):\\n\", df_std.head())\n",
    "print(\"\\nMin-Max Scaled Data (first 5 rows):\\n\", df_mm.head())"
   ]
  },
  {
   "cell_type": "code",
   "execution_count": null,
   "id": "53cb03c8",
   "metadata": {},
   "outputs": [],
   "source": []
  }
 ],
 "metadata": {
  "kernelspec": {
   "display_name": "Python 3 (ipykernel)",
   "language": "python",
   "name": "python3"
  },
  "language_info": {
   "codemirror_mode": {
    "name": "ipython",
    "version": 3
   },
   "file_extension": ".py",
   "mimetype": "text/x-python",
   "name": "python",
   "nbconvert_exporter": "python",
   "pygments_lexer": "ipython3",
   "version": "3.10.9"
  }
 },
 "nbformat": 4,
 "nbformat_minor": 5
}
